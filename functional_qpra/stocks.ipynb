{
 "cells": [
  {
   "cell_type": "code",
   "execution_count": null,
   "metadata": {
    "dotnet_interactive": {
     "language": "fsharp"
    },
    "polyglot_notebook": {
     "kernelName": "fsharp"
    }
   },
   "outputs": [],
   "source": [
    "#r \"nuget: FSharp.Data\"\n",
    "open FSharp.Data"
   ]
  },
  {
   "cell_type": "code",
   "execution_count": null,
   "metadata": {
    "dotnet_interactive": {
     "language": "fsharp"
    },
    "polyglot_notebook": {
     "kernelName": "fsharp"
    }
   },
   "outputs": [],
   "source": [
    "type Stock =  CsvProvider<\"MELI.csv\">"
   ]
  },
  {
   "cell_type": "code",
   "execution_count": null,
   "metadata": {
    "dotnet_interactive": {
     "language": "fsharp"
    },
    "polyglot_notebook": {
     "kernelName": "fsharp"
    }
   },
   "outputs": [],
   "source": [
    "let meli = Stock.Load(\"MELI.csv\")"
   ]
  },
  {
   "cell_type": "code",
   "execution_count": null,
   "metadata": {
    "dotnet_interactive": {
     "language": "fsharp"
    },
    "polyglot_notebook": {
     "kernelName": "fsharp"
    }
   },
   "outputs": [],
   "source": [
    "meli"
   ]
  },
  {
   "cell_type": "code",
   "execution_count": null,
   "metadata": {
    "dotnet_interactive": {
     "language": "fsharp"
    },
    "polyglot_notebook": {
     "kernelName": "fsharp"
    }
   },
   "outputs": [],
   "source": [
    "meli.Rows |> Seq.take 5 |> Seq.map (fun x -> x.Open )"
   ]
  },
  {
   "cell_type": "code",
   "execution_count": null,
   "metadata": {
    "dotnet_interactive": {
     "language": "fsharp"
    },
    "polyglot_notebook": {
     "kernelName": "fsharp"
    }
   },
   "outputs": [],
   "source": [
    "let meliPrice =\n",
    "    meli.Rows |> Seq.map (fun r -> (float r.Open + float r.Close)/2.0 )"
   ]
  },
  {
   "cell_type": "code",
   "execution_count": null,
   "metadata": {
    "dotnet_interactive": {
     "language": "fsharp"
    },
    "polyglot_notebook": {
     "kernelName": "fsharp"
    }
   },
   "outputs": [],
   "source": [
    "meliPrice \n",
    "|> Seq.pairwise \n",
    "|> Seq.map (fun (prev, curr) -> Math.Log((float)(prev/curr))) \n",
    "|> Seq.map (fun r -> r*r) \n",
    "|> Seq.fold (fun (n,s) st -> (n+1, s+st)) (0, 0.0) \n",
    "|> (fun (n,s) -> Math.Sqrt(s)/(float)n)"
   ]
  },
  {
   "cell_type": "code",
   "execution_count": null,
   "metadata": {
    "dotnet_interactive": {
     "language": "fsharp"
    },
    "polyglot_notebook": {
     "kernelName": "fsharp"
    }
   },
   "outputs": [],
   "source": [
    "let hr prices = \n",
    "    prices \n",
    "    |> Seq.pairwise \n",
    "    |> Seq.map (fun (prev, curr) -> Math.Log(prev/curr)) \n",
    "\n",
    "let cov_ s =\n",
    "    s \n",
    "    |> Seq.map (fun (r1,r2) -> r1*r2) \n",
    "    |> Seq.fold (fun (n,s) st -> (n+1, s+st)) (0,0.0) \n",
    "    |> (fun (n,s) -> Math.Sqrt(s)/(float)n)\n",
    "    \n",
    "let cov ps1 ps2 = \n",
    "    Seq.zip ps1 ps2\n",
    "    |> cov_\n"
   ]
  },
  {
   "cell_type": "code",
   "execution_count": null,
   "metadata": {
    "dotnet_interactive": {
     "language": "fsharp"
    },
    "polyglot_notebook": {
     "kernelName": "fsharp"
    }
   },
   "outputs": [],
   "source": [
    "meliPrice |> hr |> (fun x -> cov x x)"
   ]
  },
  {
   "cell_type": "code",
   "execution_count": null,
   "metadata": {
    "dotnet_interactive": {
     "language": "fsharp"
    },
    "polyglot_notebook": {
     "kernelName": "fsharp"
    }
   },
   "outputs": [],
   "source": [
    "let rng = Random.Shared\n",
    "seq { for x in 1..4 -> seq {for a in 1..10 -> rng.NextDouble()} } |> (fun x -> (x,x)) ||> Seq.allPairs |> Seq.map (fun (x,y)->cov x y)"
   ]
  },
  {
   "cell_type": "code",
   "execution_count": null,
   "metadata": {
    "dotnet_interactive": {
     "language": "fsharp"
    },
    "polyglot_notebook": {
     "kernelName": "fsharp"
    }
   },
   "outputs": [],
   "source": [
    "let x =seq {\"MELI.csv\";\"GLOB.csv\"}\n",
    "let getPrices (filename:string)=\n",
    "    let s = Stock.Load(filename)\n",
    "    s.Rows\n",
    "    |> Seq.map (fun r -> (float r.Open + float r.Close)/2.0 )\n",
    "\n",
    "getPrices \"MELI.csv\"\n",
    "x |> Seq.map getPrices |> (fun x->(x,x)) ||> Seq.allPairs |> Seq.map (fun (x,y)-> cov x y)"
   ]
  },
  {
   "cell_type": "code",
   "execution_count": null,
   "metadata": {
    "dotnet_interactive": {
     "language": "fsharp"
    },
    "polyglot_notebook": {
     "kernelName": "fsharp"
    }
   },
   "outputs": [],
   "source": [
    "let rec fib1 n =\n",
    "    match n with\n",
    "    | 0 -> 1\n",
    "    | 1 -> 1\n",
    "    | _ -> n * fib1 (n-1)\n"
   ]
  },
  {
   "cell_type": "code",
   "execution_count": 1,
   "metadata": {
    "dotnet_interactive": {
     "language": "fsharp"
    },
    "polyglot_notebook": {
     "kernelName": "fsharp"
    }
   },
   "outputs": [],
   "source": [
    "let rec fib1 (n: bigint) : bigint =\n",
    "    match n with\n",
    "    | x when x = 0I -> 1I\n",
    "    | x when x = 1I -> 1I\n",
    "    | _ -> n * fib1 (n - 1I)\n"
   ]
  },
  {
   "cell_type": "code",
   "execution_count": null,
   "metadata": {
    "dotnet_interactive": {
     "language": "fsharp"
    },
    "polyglot_notebook": {
     "kernelName": "fsharp"
    }
   },
   "outputs": [],
   "source": [
    "fib1 6000I"
   ]
  },
  {
   "cell_type": "code",
   "execution_count": 2,
   "metadata": {
    "dotnet_interactive": {
     "language": "fsharp"
    },
    "polyglot_notebook": {
     "kernelName": "fsharp"
    }
   },
   "outputs": [],
   "source": [
    "let fib2 n = \n",
    "    seq { 1..n }\n",
    "    |> Seq.fold (fun acc st -> acc * bigint st) (bigint 1)"
   ]
  },
  {
   "cell_type": "code",
   "execution_count": null,
   "metadata": {
    "dotnet_interactive": {
     "language": "fsharp"
    },
    "polyglot_notebook": {
     "kernelName": "fsharp"
    }
   },
   "outputs": [],
   "source": [
    "fib2 1000000"
   ]
  },
  {
   "cell_type": "code",
   "execution_count": null,
   "metadata": {
    "dotnet_interactive": {
     "language": "fsharp"
    },
    "polyglot_notebook": {
     "kernelName": "fsharp"
    }
   },
   "outputs": [],
   "source": []
  }
 ],
 "metadata": {
  "kernelspec": {
   "display_name": ".NET (C#)",
   "language": "C#",
   "name": ".net-csharp"
  },
  "polyglot_notebook": {
   "kernelInfo": {
    "defaultKernelName": "csharp",
    "items": [
     {
      "aliases": [],
      "name": "csharp"
     }
    ]
   }
  }
 },
 "nbformat": 4,
 "nbformat_minor": 2
}
